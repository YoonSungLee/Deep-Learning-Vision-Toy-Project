{
  "nbformat": 4,
  "nbformat_minor": 0,
  "metadata": {
    "colab": {
      "name": "FashionMNIST Classification without CNN.ipynb",
      "provenance": [],
      "collapsed_sections": [],
      "machine_shape": "hm"
    },
    "kernelspec": {
      "name": "python3",
      "display_name": "Python 3"
    },
    "accelerator": "GPU"
  },
  "cells": [
    {
      "cell_type": "markdown",
      "metadata": {
        "id": "ybbBlV2ihrbb"
      },
      "source": [
        "# Dataset"
      ]
    },
    {
      "cell_type": "markdown",
      "metadata": {
        "id": "u9koeyeEhsMm"
      },
      "source": [
        "* 60,000 training examples\n",
        "* 10,00 testing examples\n",
        "* 10 classes\n",
        "* 28x28 grayscale/single channel images"
      ]
    },
    {
      "cell_type": "markdown",
      "metadata": {
        "id": "kAYOKh78h6mR"
      },
      "source": [
        "class category<br>\n",
        "1. T-shirt/top\n",
        "2. Trouser/pants\n",
        "3. Pullover shirt\n",
        "4. Dress\n",
        "5. Coat\n",
        "6. Sandal\n",
        "7. Shirt\n",
        "8. Sneaker\n",
        "9. Bag\n",
        "10. Ankle boot"
      ]
    },
    {
      "cell_type": "code",
      "metadata": {
        "id": "ajlrAEXGwMeF"
      },
      "source": [
        "from google.colab import drive\n",
        "drive.mount('/content/gdrive')"
      ],
      "execution_count": null,
      "outputs": []
    },
    {
      "cell_type": "code",
      "metadata": {
        "id": "ohyZq_gx2Jqc",
        "outputId": "9d26f696-1684-4dd9-ec3f-a0a1b1f73626",
        "colab": {
          "base_uri": "https://localhost:8080/",
          "height": 36
        }
      },
      "source": [
        "%cd /content/gdrive/My\\ Drive/Project/FashionMNIST\\ Classification\\ without\\ CNN"
      ],
      "execution_count": null,
      "outputs": [
        {
          "output_type": "stream",
          "text": [
            "/content/gdrive/My Drive/Project/FashionMNIST Classification without CNN\n"
          ],
          "name": "stdout"
        }
      ]
    },
    {
      "cell_type": "code",
      "metadata": {
        "id": "7zSS_Yqug9xN"
      },
      "source": [
        "# 패키지 불러오기\n",
        "\n",
        "import os\n",
        "import numpy as np\n",
        "import keras\n",
        "import tensorflow as tf\n",
        "from tensorflow.keras.models import Sequential, load_model, Model\n",
        "from tensorflow.keras.layers import Input, Dense, Dropout, Activation, Flatten, GaussianNoise\n",
        "from tensorflow.keras.layers import Conv2D, MaxPooling2D, GlobalAveragePooling2D, BatchNormalization\n",
        "from tensorflow.keras import regularizers, optimizers\n",
        "from tensorflow.keras.preprocessing.image import ImageDataGenerator\n",
        "from tensorflow.keras.utils import plot_model, to_categorical\n",
        "from tensorflow.keras.callbacks import EarlyStopping, ModelCheckpoint, LearningRateScheduler\n",
        "from sklearn.model_selection import train_test_split\n",
        "import matplotlib.pyplot as plt"
      ],
      "execution_count": null,
      "outputs": []
    },
    {
      "cell_type": "markdown",
      "metadata": {
        "id": "l6eo2NTeiy4X"
      },
      "source": [
        "# 1. Data Load & preprocessing"
      ]
    },
    {
      "cell_type": "code",
      "metadata": {
        "id": "6UN_jiN2iuia"
      },
      "source": [
        "fashion_mnist = keras.datasets.fashion_mnist\n",
        "(train_images, train_labels), (test_images, test_labels) = fashion_mnist.load_data()\n",
        "train_images, valid_images, train_labels, valid_labels = train_test_split(\n",
        "    train_images, train_labels, test_size=10000, random_state=777)\n",
        "\n",
        "\n",
        "class_names = ['T-shirt/top', 'Trouser', 'Pullover', 'Dress', 'Coat',\n",
        "               'Sandal', 'Shirt', 'Sneaker', 'Bag', 'Ankle boot']"
      ],
      "execution_count": null,
      "outputs": []
    },
    {
      "cell_type": "code",
      "metadata": {
        "id": "5Gy0TIbCjK-S",
        "outputId": "4c8067e8-2c0c-46cc-e1b0-7388252a8e36",
        "colab": {
          "base_uri": "https://localhost:8080/",
          "height": 73
        }
      },
      "source": [
        "# train dataset\n",
        "print(train_images.shape)\n",
        "print(train_labels.shape)\n",
        "print(np.unique(train_labels))"
      ],
      "execution_count": null,
      "outputs": [
        {
          "output_type": "stream",
          "text": [
            "(50000, 28, 28)\n",
            "(50000,)\n",
            "[0 1 2 3 4 5 6 7 8 9]\n"
          ],
          "name": "stdout"
        }
      ]
    },
    {
      "cell_type": "code",
      "metadata": {
        "id": "Iy7VHa_ylvIl",
        "outputId": "cd254f13-9d46-4367-9eba-357a89676d7b",
        "colab": {
          "base_uri": "https://localhost:8080/",
          "height": 73
        }
      },
      "source": [
        "print(valid_images.shape)\n",
        "print(valid_labels.shape)\n",
        "print(np.unique(valid_labels))"
      ],
      "execution_count": null,
      "outputs": [
        {
          "output_type": "stream",
          "text": [
            "(10000, 28, 28)\n",
            "(10000,)\n",
            "[0 1 2 3 4 5 6 7 8 9]\n"
          ],
          "name": "stdout"
        }
      ]
    },
    {
      "cell_type": "code",
      "metadata": {
        "id": "7ks0eWFRjTUy",
        "outputId": "1fe2348f-703c-4ec6-b42c-647c4846d074",
        "colab": {
          "base_uri": "https://localhost:8080/",
          "height": 73
        }
      },
      "source": [
        "print(test_images.shape)\n",
        "print(test_labels.shape)\n",
        "print(np.unique(test_labels))"
      ],
      "execution_count": null,
      "outputs": [
        {
          "output_type": "stream",
          "text": [
            "(10000, 28, 28)\n",
            "(10000,)\n",
            "[0 1 2 3 4 5 6 7 8 9]\n"
          ],
          "name": "stdout"
        }
      ]
    },
    {
      "cell_type": "code",
      "metadata": {
        "id": "U-hxeM8AjhyS",
        "outputId": "c690803e-636c-4733-cb7f-7e36a15af877",
        "colab": {
          "base_uri": "https://localhost:8080/",
          "height": 265
        }
      },
      "source": [
        "plt.figure()\n",
        "plt.imshow(train_images[0])\n",
        "plt.colorbar()\n",
        "plt.grid(False)\n",
        "plt.show()"
      ],
      "execution_count": null,
      "outputs": [
        {
          "output_type": "display_data",
          "data": {
            "image/png": "[encoded data removed]",
            "text/plain": [
              "<Figure size 432x288 with 2 Axes>"
            ]
          },
          "metadata": {
            "tags": [],
            "needs_background": "light"
          }
        }
      ]
    },
    {
      "cell_type": "code",
      "metadata": {
        "id": "QBk48FyPjycn"
      },
      "source": [
        "# one-hot encoding\n",
        "train_labels = to_categorical(train_labels)\n",
        "valid_labels = to_categorical(valid_labels)\n",
        "test_labels = to_categorical(test_labels)\n",
        "\n",
        "# image preprocessing\n",
        "train_images = train_images / 255.0\n",
        "valid_images = valid_images / 255.0\n",
        "test_images = test_images / 255.0"
      ],
      "execution_count": null,
      "outputs": []
    },
    {
      "cell_type": "markdown",
      "metadata": {
        "id": "ij6Sy7V0kHAF"
      },
      "source": [
        "# 2. Modeling"
      ]
    },
    {
      "cell_type": "code",
      "metadata": {
        "id": "tLSPdEffkXkM"
      },
      "source": [
        "inputs = Input(shape=(28,28))\n",
        "x = Flatten()(inputs)\n",
        "x = Dense(784, activation='relu')(x)\n",
        "x = BatchNormalization()(x)\n",
        "x = Dense(784, activation='relu')(x)\n",
        "x = BatchNormalization()(x)\n",
        "x = Dense(128, activation='relu')(x)\n",
        "outputs = Dense(10, activation='softmax')(x)"
      ],
      "execution_count": null,
      "outputs": []
    },
    {
      "cell_type": "code",
      "metadata": {
        "id": "V7s77jTdvGTM"
      },
      "source": [
        "# Early Stopping\n",
        "es = EarlyStopping(monitor='val_loss', mode='min', verbose=1, patience=7)\n",
        "\n",
        "# model seleiction setting\n",
        "filepath = 'weights/best_model01-{epoch:02d}-{val_accuracy:.2f}.h5'\n",
        "mc = ModelCheckpoint(filepath, monitor='val_loss', mode='min', save_best_only=True)\n",
        "\n",
        "# learning rate scheduler\n",
        "# def step_decay(epoch, lr):\n",
        "#     if epoch < 10:\n",
        "#         return lr\n",
        "#     else:\n",
        "#         return lr * tf.math.exp(-0.1)\n",
        "\n",
        "# lrate = LearningRateScheduler(step_decay)"
      ],
      "execution_count": null,
      "outputs": []
    },
    {
      "cell_type": "markdown",
      "metadata": {
        "id": "t4GzAVgEkSDT"
      },
      "source": [
        "# 3. Training"
      ]
    },
    {
      "cell_type": "code",
      "metadata": {
        "id": "-qBp8BYTkX9k",
        "outputId": "aee4e5b9-8742-4abc-faaf-e3fa329cada0",
        "colab": {
          "base_uri": "https://localhost:8080/",
          "height": 463
        }
      },
      "source": [
        "# Model Creation\n",
        "model = Model(inputs=inputs, outputs=outputs)\n",
        "model.summary()"
      ],
      "execution_count": null,
      "outputs": [
        {
          "output_type": "stream",
          "text": [
            "Model: \"functional_9\"\n",
            "_________________________________________________________________\n",
            "Layer (type)                 Output Shape              Param #   \n",
            "=================================================================\n",
            "input_4 (InputLayer)         [(None, 28, 28)]          0         \n",
            "_________________________________________________________________\n",
            "flatten_3 (Flatten)          (None, 784)               0         \n",
            "_________________________________________________________________\n",
            "dense_12 (Dense)             (None, 784)               615440    \n",
            "_________________________________________________________________\n",
            "batch_normalization_6 (Batch (None, 784)               3136      \n",
            "_________________________________________________________________\n",
            "dense_13 (Dense)             (None, 784)               615440    \n",
            "_________________________________________________________________\n",
            "batch_normalization_7 (Batch (None, 784)               3136      \n",
            "_________________________________________________________________\n",
            "dense_14 (Dense)             (None, 128)               100480    \n",
            "_________________________________________________________________\n",
            "dense_15 (Dense)             (None, 10)                1290      \n",
            "=================================================================\n",
            "Total params: 1,338,922\n",
            "Trainable params: 1,335,786\n",
            "Non-trainable params: 3,136\n",
            "_________________________________________________________________\n"
          ],
          "name": "stdout"
        }
      ]
    },
    {
      "cell_type": "code",
      "metadata": {
        "id": "j2Zj5dV23Pc6",
        "outputId": "7ec7309f-7c5f-4350-8b44-f525f16aaa46",
        "colab": {
          "base_uri": "https://localhost:8080/",
          "height": 865
        }
      },
      "source": [
        "plot_model(model, show_shapes=True, show_layer_names=False)"
      ],
      "execution_count": null,
      "outputs": [
        {
          "output_type": "execute_result",
          "data": {
            "image/png": "[encoded data removed]",
            "text/plain": [
              "<IPython.core.display.Image object>"
            ]
          },
          "metadata": {
            "tags": []
          },
          "execution_count": 59
        }
      ]
    },
    {
      "cell_type": "code",
      "metadata": {
        "id": "2jejIQQx3O_O"
      },
      "source": [
        "# adam = optimizers.Adam(lr=0.001, beta_1=0.9, beta_2=0.009)\n",
        "model.compile(loss='categorical_crossentropy',\n",
        "              optimizer='adam',\n",
        "              metrics=['accuracy'])"
      ],
      "execution_count": null,
      "outputs": []
    },
    {
      "cell_type": "code",
      "metadata": {
        "id": "e9urNx5b2_jw",
        "outputId": "6ad7d889-72ef-41e1-f1d1-43e2e3a7beef",
        "colab": {
          "base_uri": "https://localhost:8080/",
          "height": 555
        }
      },
      "source": [
        "# training\n",
        "hist = model.fit(train_images, train_labels, epochs=10000, batch_size=16,\n",
        "                 validation_data=(valid_images, valid_labels),\n",
        "                 callbacks=[es, mc])"
      ],
      "execution_count": null,
      "outputs": [
        {
          "output_type": "stream",
          "text": [
            "Epoch 1/10000\n",
            "3125/3125 [==============================] - 9s 3ms/step - loss: 0.5863 - accuracy: 0.7936 - val_loss: 0.4649 - val_accuracy: 0.8266\n",
            "Epoch 2/10000\n",
            "3125/3125 [==============================] - 9s 3ms/step - loss: 0.4421 - accuracy: 0.8398 - val_loss: 0.3655 - val_accuracy: 0.8675\n",
            "Epoch 3/10000\n",
            "3125/3125 [==============================] - 9s 3ms/step - loss: 0.4025 - accuracy: 0.8513 - val_loss: 0.3627 - val_accuracy: 0.8718\n",
            "Epoch 4/10000\n",
            "3125/3125 [==============================] - 9s 3ms/step - loss: 0.3755 - accuracy: 0.8610 - val_loss: 0.3697 - val_accuracy: 0.8705\n",
            "Epoch 5/10000\n",
            "3125/3125 [==============================] - 9s 3ms/step - loss: 0.3618 - accuracy: 0.8670 - val_loss: 0.3598 - val_accuracy: 0.8693\n",
            "Epoch 6/10000\n",
            "3125/3125 [==============================] - 9s 3ms/step - loss: 0.3454 - accuracy: 0.8724 - val_loss: 0.3473 - val_accuracy: 0.8760\n",
            "Epoch 7/10000\n",
            "3125/3125 [==============================] - 9s 3ms/step - loss: 0.3309 - accuracy: 0.8776 - val_loss: 0.3253 - val_accuracy: 0.8817\n",
            "Epoch 8/10000\n",
            "3125/3125 [==============================] - 9s 3ms/step - loss: 0.3238 - accuracy: 0.8802 - val_loss: 0.3525 - val_accuracy: 0.8823\n",
            "Epoch 9/10000\n",
            "3125/3125 [==============================] - 9s 3ms/step - loss: 0.3108 - accuracy: 0.8842 - val_loss: 0.3431 - val_accuracy: 0.8825\n",
            "Epoch 10/10000\n",
            "3125/3125 [==============================] - 9s 3ms/step - loss: 0.3012 - accuracy: 0.8876 - val_loss: 0.3663 - val_accuracy: 0.8788\n",
            "Epoch 11/10000\n",
            "3125/3125 [==============================] - 9s 3ms/step - loss: 0.2961 - accuracy: 0.8908 - val_loss: 0.3517 - val_accuracy: 0.8754\n",
            "Epoch 12/10000\n",
            "3125/3125 [==============================] - 9s 3ms/step - loss: 0.2875 - accuracy: 0.8934 - val_loss: 0.3435 - val_accuracy: 0.8887\n",
            "Epoch 13/10000\n",
            "3125/3125 [==============================] - 9s 3ms/step - loss: 0.2821 - accuracy: 0.8952 - val_loss: 0.3301 - val_accuracy: 0.8915\n",
            "Epoch 14/10000\n",
            "3125/3125 [==============================] - 9s 3ms/step - loss: 0.2779 - accuracy: 0.8964 - val_loss: 0.3720 - val_accuracy: 0.8898\n",
            "Epoch 00014: early stopping\n"
          ],
          "name": "stdout"
        }
      ]
    },
    {
      "cell_type": "code",
      "metadata": {
        "id": "MbG0lbXBvSbB",
        "outputId": "c214a655-ac78-4659-91d7-32e60e0f2976",
        "colab": {
          "base_uri": "https://localhost:8080/",
          "height": 282
        }
      },
      "source": [
        "# train curve\n",
        "\n",
        "%matplotlib inline\n",
        "\n",
        "fig, loss_ax = plt.subplots()\n",
        "\n",
        "acc_ax = loss_ax.twinx()\n",
        "\n",
        "loss_ax.plot(hist.history['loss'], 'y', label='train loss', marker='o')\n",
        "loss_ax.plot(hist.history['val_loss'], 'r', label='val loss', marker='o')\n",
        "\n",
        "acc_ax.plot(hist.history['accuracy'], 'b', label='train acc', marker='o')\n",
        "acc_ax.plot(hist.history['val_accuracy'], 'g', label='val acc', marker='o')\n",
        "\n",
        "loss_ax.set_xlabel('epoch')\n",
        "loss_ax.set_ylabel('loss')\n",
        "acc_ax.set_ylabel('accuray')\n",
        "\n",
        "loss_ax.legend(loc='upper left')\n",
        "acc_ax.legend(loc='lower left')\n",
        "\n",
        "plt.show()"
      ],
      "execution_count": null,
      "outputs": [
        {
          "output_type": "display_data",
          "data": {
            "image/png": "[encoded data removed]",
            "text/plain": [
              "<Figure size 432x288 with 2 Axes>"
            ]
          },
          "metadata": {
            "tags": [],
            "needs_background": "light"
          }
        }
      ]
    },
    {
      "cell_type": "markdown",
      "metadata": {
        "id": "E24KSSDbkUfI"
      },
      "source": [
        "# 4. Evaluation"
      ]
    },
    {
      "cell_type": "code",
      "metadata": {
        "id": "4nlbJk6WkV5R",
        "outputId": "ca21583f-9e95-4a32-e375-6b4074c9d037",
        "colab": {
          "base_uri": "https://localhost:8080/",
          "height": 73
        }
      },
      "source": [
        "filename = 'best_model01-07-0.88.h5'\n",
        "best_model = load_model(os.path.join('weights', filename))\n",
        "\n",
        "scores = best_model.evaluate(valid_images, valid_labels, batch_size=16)\n",
        "print(\"%s: %.3f\" %(best_model.metrics_names[0], scores[0]))\n",
        "print(\"%s: %.3f\" %(best_model.metrics_names[1], scores[1]))"
      ],
      "execution_count": null,
      "outputs": [
        {
          "output_type": "stream",
          "text": [
            "625/625 [==============================] - 1s 2ms/step - loss: 0.3253 - accuracy: 0.8817\n",
            "loss: 0.325\n",
            "accuracy: 0.882\n"
          ],
          "name": "stdout"
        }
      ]
    }
  ]
}